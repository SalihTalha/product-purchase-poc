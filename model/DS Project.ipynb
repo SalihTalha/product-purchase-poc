{
 "cells": [
  {
   "cell_type": "markdown",
   "metadata": {
    "pycharm": {
     "name": "#%% md\n"
    }
   },
   "source": [
    "### Data"
   ]
  },
  {
   "cell_type": "code",
   "execution_count": 1,
   "metadata": {
    "pycharm": {
     "name": "#%%\n"
    }
   },
   "outputs": [],
   "source": [
    "with open('html1', 'r') as f:\n",
    "    html1 = f.read()\n",
    "with open('html2', 'r') as f:\n",
    "    html2 = f.read()\n",
    "with open('html3', 'r') as f:\n",
    "    html3 = f.read()\n",
    "with open('html4', 'r') as f:\n",
    "    html4 = f.read()\n",
    "with open('html5', 'r') as f:\n",
    "    html5 = f.read()"
   ]
  },
  {
   "cell_type": "markdown",
   "metadata": {
    "pycharm": {
     "name": "#%% md\n"
    }
   },
   "source": [
    "### Parse"
   ]
  },
  {
   "cell_type": "code",
   "execution_count": 2,
   "metadata": {
    "pycharm": {
     "name": "#%%\n"
    }
   },
   "outputs": [],
   "source": [
    "from bs4 import BeautifulSoup\n",
    "import pandas as pd\n",
    "import numpy as np"
   ]
  },
  {
   "cell_type": "code",
   "execution_count": 3,
   "metadata": {
    "pycharm": {
     "name": "#%%\n"
    }
   },
   "outputs": [],
   "source": [
    "data = []\n",
    "\n",
    "topics = ['crm', 'email-marketing', 'help-desk', 'human-resources', 'project-management']\n",
    "htmls = [html1, html2, html3, html4, html5]\n",
    "\n",
    "for z, html in enumerate(htmls):\n",
    "    topic = topics[z]\n",
    "    soup = BeautifulSoup(html, 'html.parser')\n",
    "    tr_elements = soup.find_all('tr', attrs={'role': 'row'})\n",
    "\n",
    "    for i in tr_elements[2:]:\n",
    "        soup = BeautifulSoup(str(i), 'html.parser')\n",
    "\n",
    "        if soup.find_all('td', attrs={'class': \"text-center\"})[0].text[0] not in [\"$\", \"€\"]:\n",
    "            continue\n",
    "        price = float(soup.find_all('td', attrs={'class': \"text-center\"})[0].text[1:].replace(',', ''))\n",
    "        if soup.find_all('td', attrs={'class': \"text-center\"})[0].text[0] == \"€\":\n",
    "            price *= 1.09\n",
    "        try:\n",
    "            name = soup.find('div', attrs={'class': \"product-name\"}).a.text\n",
    "            rating_text = soup.find('div', attrs={'class': \"reviews\"}).get(\"data-rating\").split(' ')\n",
    "            rating = rating_text[0].split('/')[0]\n",
    "            rating_count = rating_text[2]\n",
    "            freq = soup.find_all('td', attrs={'class': \"text-center\"})[1].text\n",
    "            checks = soup.find_all('span', attrs={'class': \"icon-circle\"})\n",
    "            per_user = checks[0].get('class')[1] == \"check\"\n",
    "            free_version = checks[1].get('class')[1] == \"check\"    \n",
    "            free_trial = checks[2].get('class')[1] == \"check\"    \n",
    "            comment_count = soup.find('a', attrs={\"class\": \"reviews-count milli\"}).text[1:-1]\n",
    "        except:\n",
    "            continue\n",
    "        data.append({\n",
    "            'name': name,\n",
    "            'price': price,\n",
    "            'rating': float(rating),\n",
    "            'comment_count': int(comment_count),\n",
    "            'frequency': freq,\n",
    "            'per_user': int(per_user),\n",
    "            'free_version': int(free_version),\n",
    "            'free_trial': int(free_trial),\n",
    "            'category': topic\n",
    "        })"
   ]
  },
  {
   "cell_type": "code",
   "execution_count": 4,
   "metadata": {
    "pycharm": {
     "name": "#%%\n"
    }
   },
   "outputs": [],
   "source": [
    "df = pd.DataFrame(data)"
   ]
  },
  {
   "cell_type": "code",
   "execution_count": 5,
   "metadata": {
    "pycharm": {
     "name": "#%%\n"
    }
   },
   "outputs": [],
   "source": [
    "df = df.drop_duplicates(['name'])"
   ]
  },
  {
   "cell_type": "code",
   "execution_count": 6,
   "metadata": {
    "pycharm": {
     "name": "#%%\n"
    }
   },
   "outputs": [
    {
     "data": {
      "text/plain": "              name     price  rating  comment_count  frequency  per_user  \\\n0           17hats    15.000     4.4            116  Per-Month         0   \n1             1CRM    15.000     4.3             58  Per-Month         1   \n2           20NINE     3.161     4.9             32  Per-Month         1   \n3       3GBusiness  1999.000     4.0              1  Per-Month         1   \n4              8am    18.000     0.0              0  Per-Month         0   \n...            ...       ...     ...            ...        ...       ...   \n2392        ZenTao    39.900     4.0              3   Per-Year         0   \n2393           ZEP     1.635     4.8              4  Per-Month         1   \n2394     ZilicusPM    25.000     4.6             32  Per-Month         1   \n2395   ZingProject     1.000     0.0              0  Per-Month         0   \n2396  Zoho Sprints     1.000     4.5            225  Per-Month         1   \n\n      free_version  free_trial            category  \n0                1           1                 crm  \n1                1           1                 crm  \n2                0           1                 crm  \n3                0           0                 crm  \n4                0           0                 crm  \n...            ...         ...                 ...  \n2392             1           1  project-management  \n2393             1           1  project-management  \n2394             0           1  project-management  \n2395             1           0  project-management  \n2396             1           1  project-management  \n\n[2218 rows x 9 columns]",
      "text/html": "<div>\n<style scoped>\n    .dataframe tbody tr th:only-of-type {\n        vertical-align: middle;\n    }\n\n    .dataframe tbody tr th {\n        vertical-align: top;\n    }\n\n    .dataframe thead th {\n        text-align: right;\n    }\n</style>\n<table border=\"1\" class=\"dataframe\">\n  <thead>\n    <tr style=\"text-align: right;\">\n      <th></th>\n      <th>name</th>\n      <th>price</th>\n      <th>rating</th>\n      <th>comment_count</th>\n      <th>frequency</th>\n      <th>per_user</th>\n      <th>free_version</th>\n      <th>free_trial</th>\n      <th>category</th>\n    </tr>\n  </thead>\n  <tbody>\n    <tr>\n      <th>0</th>\n      <td>17hats</td>\n      <td>15.000</td>\n      <td>4.4</td>\n      <td>116</td>\n      <td>Per-Month</td>\n      <td>0</td>\n      <td>1</td>\n      <td>1</td>\n      <td>crm</td>\n    </tr>\n    <tr>\n      <th>1</th>\n      <td>1CRM</td>\n      <td>15.000</td>\n      <td>4.3</td>\n      <td>58</td>\n      <td>Per-Month</td>\n      <td>1</td>\n      <td>1</td>\n      <td>1</td>\n      <td>crm</td>\n    </tr>\n    <tr>\n      <th>2</th>\n      <td>20NINE</td>\n      <td>3.161</td>\n      <td>4.9</td>\n      <td>32</td>\n      <td>Per-Month</td>\n      <td>1</td>\n      <td>0</td>\n      <td>1</td>\n      <td>crm</td>\n    </tr>\n    <tr>\n      <th>3</th>\n      <td>3GBusiness</td>\n      <td>1999.000</td>\n      <td>4.0</td>\n      <td>1</td>\n      <td>Per-Month</td>\n      <td>1</td>\n      <td>0</td>\n      <td>0</td>\n      <td>crm</td>\n    </tr>\n    <tr>\n      <th>4</th>\n      <td>8am</td>\n      <td>18.000</td>\n      <td>0.0</td>\n      <td>0</td>\n      <td>Per-Month</td>\n      <td>0</td>\n      <td>0</td>\n      <td>0</td>\n      <td>crm</td>\n    </tr>\n    <tr>\n      <th>...</th>\n      <td>...</td>\n      <td>...</td>\n      <td>...</td>\n      <td>...</td>\n      <td>...</td>\n      <td>...</td>\n      <td>...</td>\n      <td>...</td>\n      <td>...</td>\n    </tr>\n    <tr>\n      <th>2392</th>\n      <td>ZenTao</td>\n      <td>39.900</td>\n      <td>4.0</td>\n      <td>3</td>\n      <td>Per-Year</td>\n      <td>0</td>\n      <td>1</td>\n      <td>1</td>\n      <td>project-management</td>\n    </tr>\n    <tr>\n      <th>2393</th>\n      <td>ZEP</td>\n      <td>1.635</td>\n      <td>4.8</td>\n      <td>4</td>\n      <td>Per-Month</td>\n      <td>1</td>\n      <td>1</td>\n      <td>1</td>\n      <td>project-management</td>\n    </tr>\n    <tr>\n      <th>2394</th>\n      <td>ZilicusPM</td>\n      <td>25.000</td>\n      <td>4.6</td>\n      <td>32</td>\n      <td>Per-Month</td>\n      <td>1</td>\n      <td>0</td>\n      <td>1</td>\n      <td>project-management</td>\n    </tr>\n    <tr>\n      <th>2395</th>\n      <td>ZingProject</td>\n      <td>1.000</td>\n      <td>0.0</td>\n      <td>0</td>\n      <td>Per-Month</td>\n      <td>0</td>\n      <td>1</td>\n      <td>0</td>\n      <td>project-management</td>\n    </tr>\n    <tr>\n      <th>2396</th>\n      <td>Zoho Sprints</td>\n      <td>1.000</td>\n      <td>4.5</td>\n      <td>225</td>\n      <td>Per-Month</td>\n      <td>1</td>\n      <td>1</td>\n      <td>1</td>\n      <td>project-management</td>\n    </tr>\n  </tbody>\n</table>\n<p>2218 rows × 9 columns</p>\n</div>"
     },
     "execution_count": 6,
     "metadata": {},
     "output_type": "execute_result"
    }
   ],
   "source": [
    "df"
   ]
  },
  {
   "cell_type": "markdown",
   "metadata": {
    "pycharm": {
     "name": "#%% md\n"
    }
   },
   "source": [
    "### Define Total Price (10 years)"
   ]
  },
  {
   "cell_type": "code",
   "execution_count": 7,
   "metadata": {
    "pycharm": {
     "name": "#%%\n"
    }
   },
   "outputs": [],
   "source": [
    "df['total_price'] = df['price']"
   ]
  },
  {
   "cell_type": "code",
   "execution_count": 8,
   "metadata": {
    "pycharm": {
     "name": "#%%\n"
    }
   },
   "outputs": [],
   "source": [
    "df.loc[df['frequency'] == 'Per-Month', 'total_price'] *= 120"
   ]
  },
  {
   "cell_type": "code",
   "execution_count": 9,
   "metadata": {
    "pycharm": {
     "name": "#%%\n"
    }
   },
   "outputs": [],
   "source": [
    "df.loc[df['frequency'] == 'Per-Year', 'total_price'] *= 10"
   ]
  },
  {
   "cell_type": "code",
   "execution_count": 10,
   "metadata": {
    "pycharm": {
     "name": "#%%\n"
    }
   },
   "outputs": [],
   "source": [
    "df = df.reset_index(drop=True)"
   ]
  },
  {
   "cell_type": "code",
   "execution_count": 11,
   "metadata": {
    "pycharm": {
     "name": "#%%\n"
    }
   },
   "outputs": [],
   "source": [
    "df['buyability'] = (df['rating'] - np.mean(df['rating'])) * (df['comment_count'] - np.mean(df['comment_count']))"
   ]
  },
  {
   "cell_type": "code",
   "execution_count": 12,
   "metadata": {
    "pycharm": {
     "name": "#%%\n"
    }
   },
   "outputs": [],
   "source": [
    "sorted_df = df.sort_values(by='buyability', ascending=False)\n",
    "sorted_df = sorted_df.reset_index(drop=True)"
   ]
  },
  {
   "cell_type": "code",
   "execution_count": 13,
   "metadata": {
    "pycharm": {
     "name": "#%%\n"
    }
   },
   "outputs": [],
   "source": [
    "sorted_df['decision'] = 0\n",
    "sorted_df.loc[:50, 'decision'] = 1"
   ]
  },
  {
   "cell_type": "code",
   "execution_count": 14,
   "outputs": [
    {
     "data": {
      "text/plain": "                          name  price  rating  comment_count  frequency  \\\n0              QuickBooks Time   20.0     4.7           6483  Per-Month   \n1        HubSpot Marketing Hub   50.0     4.5           5622  Per-Month   \n2                 Dynamics 365   50.0     4.4           5177  Per-Month   \n3                Zendesk Suite   49.0     4.4           3682  Per-Month   \n4                     Rippling    8.0     4.9           2728  Per-Month   \n...                        ...    ...     ...            ...        ...   \n2213               DesignSmart   52.0     5.0              1  Per-Month   \n2214                    FForce   10.0     5.0              1  Per-Month   \n2215  Ensight eMarketing Suite  650.0     5.0              1  Per-Month   \n2216                Firmao CRM   19.0     5.0              1  Per-Month   \n2217      Office HR Management    4.5     5.0              1  Per-Month   \n\n      per_user  free_version  free_trial            category  total_price  \\\n0            0             0           1     human-resources       2400.0   \n1            0             1           1     email-marketing       6000.0   \n2            1             0           1                 crm       6000.0   \n3            1             0           1                 crm       5880.0   \n4            1             0           0     human-resources        960.0   \n...        ...           ...         ...                 ...          ...   \n2213         0             0           1  project-management       6240.0   \n2214         0             0           0                 crm       1200.0   \n2215         1             0           0     email-marketing      78000.0   \n2216         1             1           1                 crm       2280.0   \n2217         0             0           1     human-resources        540.0   \n\n        buyability  decision  \n0     11135.311699         1  \n1      8530.606469         1  \n2      7336.661924         1  \n3      5198.097452         1  \n4      5173.330905         1  \n...            ...       ...  \n2213    -95.800474         0  \n2214    -95.800474         0  \n2215    -95.800474         0  \n2216    -95.800474         0  \n2217    -95.800474         0  \n\n[2218 rows x 12 columns]",
      "text/html": "<div>\n<style scoped>\n    .dataframe tbody tr th:only-of-type {\n        vertical-align: middle;\n    }\n\n    .dataframe tbody tr th {\n        vertical-align: top;\n    }\n\n    .dataframe thead th {\n        text-align: right;\n    }\n</style>\n<table border=\"1\" class=\"dataframe\">\n  <thead>\n    <tr style=\"text-align: right;\">\n      <th></th>\n      <th>name</th>\n      <th>price</th>\n      <th>rating</th>\n      <th>comment_count</th>\n      <th>frequency</th>\n      <th>per_user</th>\n      <th>free_version</th>\n      <th>free_trial</th>\n      <th>category</th>\n      <th>total_price</th>\n      <th>buyability</th>\n      <th>decision</th>\n    </tr>\n  </thead>\n  <tbody>\n    <tr>\n      <th>0</th>\n      <td>QuickBooks Time</td>\n      <td>20.0</td>\n      <td>4.7</td>\n      <td>6483</td>\n      <td>Per-Month</td>\n      <td>0</td>\n      <td>0</td>\n      <td>1</td>\n      <td>human-resources</td>\n      <td>2400.0</td>\n      <td>11135.311699</td>\n      <td>1</td>\n    </tr>\n    <tr>\n      <th>1</th>\n      <td>HubSpot Marketing Hub</td>\n      <td>50.0</td>\n      <td>4.5</td>\n      <td>5622</td>\n      <td>Per-Month</td>\n      <td>0</td>\n      <td>1</td>\n      <td>1</td>\n      <td>email-marketing</td>\n      <td>6000.0</td>\n      <td>8530.606469</td>\n      <td>1</td>\n    </tr>\n    <tr>\n      <th>2</th>\n      <td>Dynamics 365</td>\n      <td>50.0</td>\n      <td>4.4</td>\n      <td>5177</td>\n      <td>Per-Month</td>\n      <td>1</td>\n      <td>0</td>\n      <td>1</td>\n      <td>crm</td>\n      <td>6000.0</td>\n      <td>7336.661924</td>\n      <td>1</td>\n    </tr>\n    <tr>\n      <th>3</th>\n      <td>Zendesk Suite</td>\n      <td>49.0</td>\n      <td>4.4</td>\n      <td>3682</td>\n      <td>Per-Month</td>\n      <td>1</td>\n      <td>0</td>\n      <td>1</td>\n      <td>crm</td>\n      <td>5880.0</td>\n      <td>5198.097452</td>\n      <td>1</td>\n    </tr>\n    <tr>\n      <th>4</th>\n      <td>Rippling</td>\n      <td>8.0</td>\n      <td>4.9</td>\n      <td>2728</td>\n      <td>Per-Month</td>\n      <td>1</td>\n      <td>0</td>\n      <td>0</td>\n      <td>human-resources</td>\n      <td>960.0</td>\n      <td>5173.330905</td>\n      <td>1</td>\n    </tr>\n    <tr>\n      <th>...</th>\n      <td>...</td>\n      <td>...</td>\n      <td>...</td>\n      <td>...</td>\n      <td>...</td>\n      <td>...</td>\n      <td>...</td>\n      <td>...</td>\n      <td>...</td>\n      <td>...</td>\n      <td>...</td>\n      <td>...</td>\n    </tr>\n    <tr>\n      <th>2213</th>\n      <td>DesignSmart</td>\n      <td>52.0</td>\n      <td>5.0</td>\n      <td>1</td>\n      <td>Per-Month</td>\n      <td>0</td>\n      <td>0</td>\n      <td>1</td>\n      <td>project-management</td>\n      <td>6240.0</td>\n      <td>-95.800474</td>\n      <td>0</td>\n    </tr>\n    <tr>\n      <th>2214</th>\n      <td>FForce</td>\n      <td>10.0</td>\n      <td>5.0</td>\n      <td>1</td>\n      <td>Per-Month</td>\n      <td>0</td>\n      <td>0</td>\n      <td>0</td>\n      <td>crm</td>\n      <td>1200.0</td>\n      <td>-95.800474</td>\n      <td>0</td>\n    </tr>\n    <tr>\n      <th>2215</th>\n      <td>Ensight eMarketing Suite</td>\n      <td>650.0</td>\n      <td>5.0</td>\n      <td>1</td>\n      <td>Per-Month</td>\n      <td>1</td>\n      <td>0</td>\n      <td>0</td>\n      <td>email-marketing</td>\n      <td>78000.0</td>\n      <td>-95.800474</td>\n      <td>0</td>\n    </tr>\n    <tr>\n      <th>2216</th>\n      <td>Firmao CRM</td>\n      <td>19.0</td>\n      <td>5.0</td>\n      <td>1</td>\n      <td>Per-Month</td>\n      <td>1</td>\n      <td>1</td>\n      <td>1</td>\n      <td>crm</td>\n      <td>2280.0</td>\n      <td>-95.800474</td>\n      <td>0</td>\n    </tr>\n    <tr>\n      <th>2217</th>\n      <td>Office HR Management</td>\n      <td>4.5</td>\n      <td>5.0</td>\n      <td>1</td>\n      <td>Per-Month</td>\n      <td>0</td>\n      <td>0</td>\n      <td>1</td>\n      <td>human-resources</td>\n      <td>540.0</td>\n      <td>-95.800474</td>\n      <td>0</td>\n    </tr>\n  </tbody>\n</table>\n<p>2218 rows × 12 columns</p>\n</div>"
     },
     "execution_count": 14,
     "metadata": {},
     "output_type": "execute_result"
    }
   ],
   "source": [
    "sorted_df"
   ],
   "metadata": {
    "collapsed": false,
    "pycharm": {
     "name": "#%%\n"
    }
   }
  },
  {
   "cell_type": "code",
   "execution_count": 15,
   "outputs": [
    {
     "data": {
      "text/plain": "51"
     },
     "execution_count": 15,
     "metadata": {},
     "output_type": "execute_result"
    }
   ],
   "source": [
    "len(sorted_df[sorted_df['decision'] == 1])"
   ],
   "metadata": {
    "collapsed": false,
    "pycharm": {
     "name": "#%%\n"
    }
   }
  },
  {
   "cell_type": "code",
   "execution_count": 16,
   "metadata": {
    "pycharm": {
     "name": "#%%\n"
    }
   },
   "outputs": [],
   "source": [
    "df = sorted_df.copy()\n",
    "shuffled_df = df.sample(frac=1, random_state=42)\n",
    "\n",
    "# Reset the index of the shuffled DataFrame\n",
    "df = shuffled_df.reset_index(drop=True)"
   ]
  },
  {
   "cell_type": "code",
   "execution_count": 17,
   "metadata": {
    "pycharm": {
     "name": "#%%\n"
    }
   },
   "outputs": [
    {
     "data": {
      "text/plain": "                  name   price  rating  comment_count  frequency  per_user  \\\n0               Kin HR   3.000     4.6             14  Per-Month         0   \n1             WizzTime   9.990     0.0              0  Per-Month         0   \n2     Tempo Timesheets  10.000     4.3            193  Per-Month         1   \n3            LeadsLive  25.000     0.0              0  Per-Month         0   \n4             Averroes   6.990     5.0              2  Per-Month         1   \n...                ...     ...     ...            ...        ...       ...   \n2213       myofficehub   3.000     4.4              5  Per-Month         0   \n2214            Conrep  40.000     4.5             45  Per-Month         1   \n2215         Interstis  16.350     3.7             27  Per-Month         0   \n2216           ezeeCRM  12.000     4.1             13  Per-Month         0   \n2217          Exanergy   4.578     0.0              0  Per-Month         1   \n\n      free_version  free_trial            category  total_price  buyability  \\\n0                0           1     human-resources       360.00  -55.731764   \n1                1           1  project-management      1198.80  143.075270   \n2                0           1           help-desk      1200.00  192.678155   \n3                0           1                 crm      3000.00  143.075270   \n4                1           1  project-management       838.80  -93.769996   \n...            ...         ...                 ...          ...         ...   \n2213             1           1     human-resources       360.00  -61.769816   \n2214             0           0     human-resources      4800.00   -4.868824   \n2215             1           1  project-management      1962.00  -15.472431   \n2216             0           1                 crm      1440.00  -39.771620   \n2217             0           0                 crm       549.36  143.075270   \n\n      decision  \n0            0  \n1            0  \n2            0  \n3            0  \n4            0  \n...        ...  \n2213         0  \n2214         0  \n2215         0  \n2216         0  \n2217         0  \n\n[2218 rows x 12 columns]",
      "text/html": "<div>\n<style scoped>\n    .dataframe tbody tr th:only-of-type {\n        vertical-align: middle;\n    }\n\n    .dataframe tbody tr th {\n        vertical-align: top;\n    }\n\n    .dataframe thead th {\n        text-align: right;\n    }\n</style>\n<table border=\"1\" class=\"dataframe\">\n  <thead>\n    <tr style=\"text-align: right;\">\n      <th></th>\n      <th>name</th>\n      <th>price</th>\n      <th>rating</th>\n      <th>comment_count</th>\n      <th>frequency</th>\n      <th>per_user</th>\n      <th>free_version</th>\n      <th>free_trial</th>\n      <th>category</th>\n      <th>total_price</th>\n      <th>buyability</th>\n      <th>decision</th>\n    </tr>\n  </thead>\n  <tbody>\n    <tr>\n      <th>0</th>\n      <td>Kin HR</td>\n      <td>3.000</td>\n      <td>4.6</td>\n      <td>14</td>\n      <td>Per-Month</td>\n      <td>0</td>\n      <td>0</td>\n      <td>1</td>\n      <td>human-resources</td>\n      <td>360.00</td>\n      <td>-55.731764</td>\n      <td>0</td>\n    </tr>\n    <tr>\n      <th>1</th>\n      <td>WizzTime</td>\n      <td>9.990</td>\n      <td>0.0</td>\n      <td>0</td>\n      <td>Per-Month</td>\n      <td>0</td>\n      <td>1</td>\n      <td>1</td>\n      <td>project-management</td>\n      <td>1198.80</td>\n      <td>143.075270</td>\n      <td>0</td>\n    </tr>\n    <tr>\n      <th>2</th>\n      <td>Tempo Timesheets</td>\n      <td>10.000</td>\n      <td>4.3</td>\n      <td>193</td>\n      <td>Per-Month</td>\n      <td>1</td>\n      <td>0</td>\n      <td>1</td>\n      <td>help-desk</td>\n      <td>1200.00</td>\n      <td>192.678155</td>\n      <td>0</td>\n    </tr>\n    <tr>\n      <th>3</th>\n      <td>LeadsLive</td>\n      <td>25.000</td>\n      <td>0.0</td>\n      <td>0</td>\n      <td>Per-Month</td>\n      <td>0</td>\n      <td>0</td>\n      <td>1</td>\n      <td>crm</td>\n      <td>3000.00</td>\n      <td>143.075270</td>\n      <td>0</td>\n    </tr>\n    <tr>\n      <th>4</th>\n      <td>Averroes</td>\n      <td>6.990</td>\n      <td>5.0</td>\n      <td>2</td>\n      <td>Per-Month</td>\n      <td>1</td>\n      <td>1</td>\n      <td>1</td>\n      <td>project-management</td>\n      <td>838.80</td>\n      <td>-93.769996</td>\n      <td>0</td>\n    </tr>\n    <tr>\n      <th>...</th>\n      <td>...</td>\n      <td>...</td>\n      <td>...</td>\n      <td>...</td>\n      <td>...</td>\n      <td>...</td>\n      <td>...</td>\n      <td>...</td>\n      <td>...</td>\n      <td>...</td>\n      <td>...</td>\n      <td>...</td>\n    </tr>\n    <tr>\n      <th>2213</th>\n      <td>myofficehub</td>\n      <td>3.000</td>\n      <td>4.4</td>\n      <td>5</td>\n      <td>Per-Month</td>\n      <td>0</td>\n      <td>1</td>\n      <td>1</td>\n      <td>human-resources</td>\n      <td>360.00</td>\n      <td>-61.769816</td>\n      <td>0</td>\n    </tr>\n    <tr>\n      <th>2214</th>\n      <td>Conrep</td>\n      <td>40.000</td>\n      <td>4.5</td>\n      <td>45</td>\n      <td>Per-Month</td>\n      <td>1</td>\n      <td>0</td>\n      <td>0</td>\n      <td>human-resources</td>\n      <td>4800.00</td>\n      <td>-4.868824</td>\n      <td>0</td>\n    </tr>\n    <tr>\n      <th>2215</th>\n      <td>Interstis</td>\n      <td>16.350</td>\n      <td>3.7</td>\n      <td>27</td>\n      <td>Per-Month</td>\n      <td>0</td>\n      <td>1</td>\n      <td>1</td>\n      <td>project-management</td>\n      <td>1962.00</td>\n      <td>-15.472431</td>\n      <td>0</td>\n    </tr>\n    <tr>\n      <th>2216</th>\n      <td>ezeeCRM</td>\n      <td>12.000</td>\n      <td>4.1</td>\n      <td>13</td>\n      <td>Per-Month</td>\n      <td>0</td>\n      <td>0</td>\n      <td>1</td>\n      <td>crm</td>\n      <td>1440.00</td>\n      <td>-39.771620</td>\n      <td>0</td>\n    </tr>\n    <tr>\n      <th>2217</th>\n      <td>Exanergy</td>\n      <td>4.578</td>\n      <td>0.0</td>\n      <td>0</td>\n      <td>Per-Month</td>\n      <td>1</td>\n      <td>0</td>\n      <td>0</td>\n      <td>crm</td>\n      <td>549.36</td>\n      <td>143.075270</td>\n      <td>0</td>\n    </tr>\n  </tbody>\n</table>\n<p>2218 rows × 12 columns</p>\n</div>"
     },
     "execution_count": 17,
     "metadata": {},
     "output_type": "execute_result"
    }
   ],
   "source": [
    "df"
   ]
  },
  {
   "cell_type": "code",
   "execution_count": 18,
   "metadata": {
    "pycharm": {
     "name": "#%%\n"
    }
   },
   "outputs": [
    {
     "name": "stdout",
     "output_type": "stream",
     "text": [
      "<class 'pandas.core.frame.DataFrame'>\n",
      "RangeIndex: 2218 entries, 0 to 2217\n",
      "Data columns (total 12 columns):\n",
      " #   Column         Non-Null Count  Dtype  \n",
      "---  ------         --------------  -----  \n",
      " 0   name           2218 non-null   object \n",
      " 1   price          2218 non-null   float64\n",
      " 2   rating         2218 non-null   float64\n",
      " 3   comment_count  2218 non-null   int64  \n",
      " 4   frequency      2218 non-null   object \n",
      " 5   per_user       2218 non-null   int64  \n",
      " 6   free_version   2218 non-null   int64  \n",
      " 7   free_trial     2218 non-null   int64  \n",
      " 8   category       2218 non-null   object \n",
      " 9   total_price    2218 non-null   float64\n",
      " 10  buyability     2218 non-null   float64\n",
      " 11  decision       2218 non-null   int64  \n",
      "dtypes: float64(4), int64(5), object(3)\n",
      "memory usage: 208.1+ KB\n"
     ]
    }
   ],
   "source": [
    "df.info()"
   ]
  },
  {
   "cell_type": "code",
   "execution_count": 19,
   "metadata": {
    "pycharm": {
     "name": "#%%\n"
    }
   },
   "outputs": [
    {
     "data": {
      "text/plain": "               price      rating  comment_count    per_user  free_version  \\\ncount     187.000000  187.000000     187.000000  187.000000    187.000000   \nmean     3228.400968    1.880749       7.208556    0.481283      0.192513   \nstd     10561.375828    2.193675      28.032514    0.500991      0.395332   \nmin         0.010000    0.000000       0.000000    0.000000      0.000000   \n25%        77.000000    0.000000       0.000000    0.000000      0.000000   \n50%       290.000000    0.000000       0.000000    0.000000      0.000000   \n75%      1196.775000    4.300000       3.000000    1.000000      0.000000   \nmax    100000.000000    5.000000     286.000000    1.000000      1.000000   \n\n       free_trial    total_price  buyability  decision  \ncount  187.000000     187.000000  187.000000     187.0  \nmean     0.572193    3228.400968   61.995273       0.0  \nstd      0.496089   10561.375828  100.932846       0.0  \nmin      0.000000       0.010000  -95.800474       0.0  \n25%      0.000000      77.000000  -48.619230       0.0  \n50%      1.000000     290.000000  143.075270       0.0  \n75%      1.000000    1196.775000  143.075270       0.0  \nmax      1.000000  100000.000000  340.194476       0.0  ",
      "text/html": "<div>\n<style scoped>\n    .dataframe tbody tr th:only-of-type {\n        vertical-align: middle;\n    }\n\n    .dataframe tbody tr th {\n        vertical-align: top;\n    }\n\n    .dataframe thead th {\n        text-align: right;\n    }\n</style>\n<table border=\"1\" class=\"dataframe\">\n  <thead>\n    <tr style=\"text-align: right;\">\n      <th></th>\n      <th>price</th>\n      <th>rating</th>\n      <th>comment_count</th>\n      <th>per_user</th>\n      <th>free_version</th>\n      <th>free_trial</th>\n      <th>total_price</th>\n      <th>buyability</th>\n      <th>decision</th>\n    </tr>\n  </thead>\n  <tbody>\n    <tr>\n      <th>count</th>\n      <td>187.000000</td>\n      <td>187.000000</td>\n      <td>187.000000</td>\n      <td>187.000000</td>\n      <td>187.000000</td>\n      <td>187.000000</td>\n      <td>187.000000</td>\n      <td>187.000000</td>\n      <td>187.0</td>\n    </tr>\n    <tr>\n      <th>mean</th>\n      <td>3228.400968</td>\n      <td>1.880749</td>\n      <td>7.208556</td>\n      <td>0.481283</td>\n      <td>0.192513</td>\n      <td>0.572193</td>\n      <td>3228.400968</td>\n      <td>61.995273</td>\n      <td>0.0</td>\n    </tr>\n    <tr>\n      <th>std</th>\n      <td>10561.375828</td>\n      <td>2.193675</td>\n      <td>28.032514</td>\n      <td>0.500991</td>\n      <td>0.395332</td>\n      <td>0.496089</td>\n      <td>10561.375828</td>\n      <td>100.932846</td>\n      <td>0.0</td>\n    </tr>\n    <tr>\n      <th>min</th>\n      <td>0.010000</td>\n      <td>0.000000</td>\n      <td>0.000000</td>\n      <td>0.000000</td>\n      <td>0.000000</td>\n      <td>0.000000</td>\n      <td>0.010000</td>\n      <td>-95.800474</td>\n      <td>0.0</td>\n    </tr>\n    <tr>\n      <th>25%</th>\n      <td>77.000000</td>\n      <td>0.000000</td>\n      <td>0.000000</td>\n      <td>0.000000</td>\n      <td>0.000000</td>\n      <td>0.000000</td>\n      <td>77.000000</td>\n      <td>-48.619230</td>\n      <td>0.0</td>\n    </tr>\n    <tr>\n      <th>50%</th>\n      <td>290.000000</td>\n      <td>0.000000</td>\n      <td>0.000000</td>\n      <td>0.000000</td>\n      <td>0.000000</td>\n      <td>1.000000</td>\n      <td>290.000000</td>\n      <td>143.075270</td>\n      <td>0.0</td>\n    </tr>\n    <tr>\n      <th>75%</th>\n      <td>1196.775000</td>\n      <td>4.300000</td>\n      <td>3.000000</td>\n      <td>1.000000</td>\n      <td>0.000000</td>\n      <td>1.000000</td>\n      <td>1196.775000</td>\n      <td>143.075270</td>\n      <td>0.0</td>\n    </tr>\n    <tr>\n      <th>max</th>\n      <td>100000.000000</td>\n      <td>5.000000</td>\n      <td>286.000000</td>\n      <td>1.000000</td>\n      <td>1.000000</td>\n      <td>1.000000</td>\n      <td>100000.000000</td>\n      <td>340.194476</td>\n      <td>0.0</td>\n    </tr>\n  </tbody>\n</table>\n</div>"
     },
     "execution_count": 19,
     "metadata": {},
     "output_type": "execute_result"
    }
   ],
   "source": [
    "df[df['frequency'] == 'One-Time'].describe()"
   ]
  },
  {
   "cell_type": "code",
   "execution_count": 20,
   "metadata": {
    "pycharm": {
     "name": "#%%\n"
    }
   },
   "outputs": [
    {
     "data": {
      "text/plain": "             price       rating  comment_count     per_user  free_version  \\\ncount  1884.000000  1884.000000    1884.000000  1884.000000   1884.000000   \nmean     72.920379     3.075796      54.245223     0.477176      0.337049   \nstd     222.020164     2.169914     308.066748     0.499611      0.472827   \nmin       0.010000     0.000000       0.000000     0.000000      0.000000   \n25%       9.000000     0.000000       0.000000     0.000000      0.000000   \n50%      20.710000     4.400000       3.000000     0.000000      0.000000   \n75%      50.000000     4.800000      17.000000     1.000000      1.000000   \nmax    5000.000000     5.000000    6483.000000     1.000000      1.000000   \n\n        free_trial    total_price    buyability     decision  \ncount  1884.000000    1884.000000   1884.000000  1884.000000  \nmean      0.789278    8750.445535     78.096876     0.026008  \nstd       0.407930   26642.419682    486.558948     0.159203  \nmin       0.000000       1.200000    -95.800474     0.000000  \n25%       1.000000    1080.000000    -66.228968     0.000000  \n50%       1.000000    2485.200000    -16.100700     0.000000  \n75%       1.000000    6000.000000    143.075270     0.000000  \nmax       1.000000  600000.000000  11135.311699     1.000000  ",
      "text/html": "<div>\n<style scoped>\n    .dataframe tbody tr th:only-of-type {\n        vertical-align: middle;\n    }\n\n    .dataframe tbody tr th {\n        vertical-align: top;\n    }\n\n    .dataframe thead th {\n        text-align: right;\n    }\n</style>\n<table border=\"1\" class=\"dataframe\">\n  <thead>\n    <tr style=\"text-align: right;\">\n      <th></th>\n      <th>price</th>\n      <th>rating</th>\n      <th>comment_count</th>\n      <th>per_user</th>\n      <th>free_version</th>\n      <th>free_trial</th>\n      <th>total_price</th>\n      <th>buyability</th>\n      <th>decision</th>\n    </tr>\n  </thead>\n  <tbody>\n    <tr>\n      <th>count</th>\n      <td>1884.000000</td>\n      <td>1884.000000</td>\n      <td>1884.000000</td>\n      <td>1884.000000</td>\n      <td>1884.000000</td>\n      <td>1884.000000</td>\n      <td>1884.000000</td>\n      <td>1884.000000</td>\n      <td>1884.000000</td>\n    </tr>\n    <tr>\n      <th>mean</th>\n      <td>72.920379</td>\n      <td>3.075796</td>\n      <td>54.245223</td>\n      <td>0.477176</td>\n      <td>0.337049</td>\n      <td>0.789278</td>\n      <td>8750.445535</td>\n      <td>78.096876</td>\n      <td>0.026008</td>\n    </tr>\n    <tr>\n      <th>std</th>\n      <td>222.020164</td>\n      <td>2.169914</td>\n      <td>308.066748</td>\n      <td>0.499611</td>\n      <td>0.472827</td>\n      <td>0.407930</td>\n      <td>26642.419682</td>\n      <td>486.558948</td>\n      <td>0.159203</td>\n    </tr>\n    <tr>\n      <th>min</th>\n      <td>0.010000</td>\n      <td>0.000000</td>\n      <td>0.000000</td>\n      <td>0.000000</td>\n      <td>0.000000</td>\n      <td>0.000000</td>\n      <td>1.200000</td>\n      <td>-95.800474</td>\n      <td>0.000000</td>\n    </tr>\n    <tr>\n      <th>25%</th>\n      <td>9.000000</td>\n      <td>0.000000</td>\n      <td>0.000000</td>\n      <td>0.000000</td>\n      <td>0.000000</td>\n      <td>1.000000</td>\n      <td>1080.000000</td>\n      <td>-66.228968</td>\n      <td>0.000000</td>\n    </tr>\n    <tr>\n      <th>50%</th>\n      <td>20.710000</td>\n      <td>4.400000</td>\n      <td>3.000000</td>\n      <td>0.000000</td>\n      <td>0.000000</td>\n      <td>1.000000</td>\n      <td>2485.200000</td>\n      <td>-16.100700</td>\n      <td>0.000000</td>\n    </tr>\n    <tr>\n      <th>75%</th>\n      <td>50.000000</td>\n      <td>4.800000</td>\n      <td>17.000000</td>\n      <td>1.000000</td>\n      <td>1.000000</td>\n      <td>1.000000</td>\n      <td>6000.000000</td>\n      <td>143.075270</td>\n      <td>0.000000</td>\n    </tr>\n    <tr>\n      <th>max</th>\n      <td>5000.000000</td>\n      <td>5.000000</td>\n      <td>6483.000000</td>\n      <td>1.000000</td>\n      <td>1.000000</td>\n      <td>1.000000</td>\n      <td>600000.000000</td>\n      <td>11135.311699</td>\n      <td>1.000000</td>\n    </tr>\n  </tbody>\n</table>\n</div>"
     },
     "execution_count": 20,
     "metadata": {},
     "output_type": "execute_result"
    }
   ],
   "source": [
    "df[df['frequency'] == 'Per-Month'].describe()"
   ]
  },
  {
   "cell_type": "code",
   "execution_count": 21,
   "metadata": {
    "pycharm": {
     "name": "#%%\n"
    }
   },
   "outputs": [
    {
     "data": {
      "text/plain": "              price      rating  comment_count    per_user  free_version  \\\ncount    147.000000  147.000000     147.000000  147.000000    147.000000   \nmean    1675.460784    2.992517      22.585034    0.428571      0.292517   \nstd     4566.316535    2.166434      72.538780    0.496564      0.456474   \nmin        0.010000    0.000000       0.000000    0.000000      0.000000   \n25%       28.070500    0.000000       0.000000    0.000000      0.000000   \n50%      108.989100    4.400000       2.000000    0.000000      0.000000   \n75%      774.500000    4.700000      15.000000    1.000000      1.000000   \nmax    30000.000000    5.000000     647.000000    1.000000      1.000000   \n\n       free_trial    total_price   buyability    decision  \ncount  147.000000     147.000000   147.000000  147.000000  \nmean     0.680272   16754.607837    35.406271    0.013605  \nstd      0.467965   45663.165348   139.689408    0.116242  \nmin      0.000000       0.100000   -95.800474    0.000000  \n25%      0.000000     280.705000   -62.947499    0.000000  \n50%      1.000000    1089.891000   -24.498130    0.000000  \n75%      1.000000    7745.000000   143.075270    0.000000  \nmax      1.000000  300000.000000  1036.242628    1.000000  ",
      "text/html": "<div>\n<style scoped>\n    .dataframe tbody tr th:only-of-type {\n        vertical-align: middle;\n    }\n\n    .dataframe tbody tr th {\n        vertical-align: top;\n    }\n\n    .dataframe thead th {\n        text-align: right;\n    }\n</style>\n<table border=\"1\" class=\"dataframe\">\n  <thead>\n    <tr style=\"text-align: right;\">\n      <th></th>\n      <th>price</th>\n      <th>rating</th>\n      <th>comment_count</th>\n      <th>per_user</th>\n      <th>free_version</th>\n      <th>free_trial</th>\n      <th>total_price</th>\n      <th>buyability</th>\n      <th>decision</th>\n    </tr>\n  </thead>\n  <tbody>\n    <tr>\n      <th>count</th>\n      <td>147.000000</td>\n      <td>147.000000</td>\n      <td>147.000000</td>\n      <td>147.000000</td>\n      <td>147.000000</td>\n      <td>147.000000</td>\n      <td>147.000000</td>\n      <td>147.000000</td>\n      <td>147.000000</td>\n    </tr>\n    <tr>\n      <th>mean</th>\n      <td>1675.460784</td>\n      <td>2.992517</td>\n      <td>22.585034</td>\n      <td>0.428571</td>\n      <td>0.292517</td>\n      <td>0.680272</td>\n      <td>16754.607837</td>\n      <td>35.406271</td>\n      <td>0.013605</td>\n    </tr>\n    <tr>\n      <th>std</th>\n      <td>4566.316535</td>\n      <td>2.166434</td>\n      <td>72.538780</td>\n      <td>0.496564</td>\n      <td>0.456474</td>\n      <td>0.467965</td>\n      <td>45663.165348</td>\n      <td>139.689408</td>\n      <td>0.116242</td>\n    </tr>\n    <tr>\n      <th>min</th>\n      <td>0.010000</td>\n      <td>0.000000</td>\n      <td>0.000000</td>\n      <td>0.000000</td>\n      <td>0.000000</td>\n      <td>0.000000</td>\n      <td>0.100000</td>\n      <td>-95.800474</td>\n      <td>0.000000</td>\n    </tr>\n    <tr>\n      <th>25%</th>\n      <td>28.070500</td>\n      <td>0.000000</td>\n      <td>0.000000</td>\n      <td>0.000000</td>\n      <td>0.000000</td>\n      <td>0.000000</td>\n      <td>280.705000</td>\n      <td>-62.947499</td>\n      <td>0.000000</td>\n    </tr>\n    <tr>\n      <th>50%</th>\n      <td>108.989100</td>\n      <td>4.400000</td>\n      <td>2.000000</td>\n      <td>0.000000</td>\n      <td>0.000000</td>\n      <td>1.000000</td>\n      <td>1089.891000</td>\n      <td>-24.498130</td>\n      <td>0.000000</td>\n    </tr>\n    <tr>\n      <th>75%</th>\n      <td>774.500000</td>\n      <td>4.700000</td>\n      <td>15.000000</td>\n      <td>1.000000</td>\n      <td>1.000000</td>\n      <td>1.000000</td>\n      <td>7745.000000</td>\n      <td>143.075270</td>\n      <td>0.000000</td>\n    </tr>\n    <tr>\n      <th>max</th>\n      <td>30000.000000</td>\n      <td>5.000000</td>\n      <td>647.000000</td>\n      <td>1.000000</td>\n      <td>1.000000</td>\n      <td>1.000000</td>\n      <td>300000.000000</td>\n      <td>1036.242628</td>\n      <td>1.000000</td>\n    </tr>\n  </tbody>\n</table>\n</div>"
     },
     "execution_count": 21,
     "metadata": {},
     "output_type": "execute_result"
    }
   ],
   "source": [
    "df[df['frequency'] == 'Per-Year'].describe()"
   ]
  },
  {
   "cell_type": "markdown",
   "metadata": {
    "pycharm": {
     "name": "#%% md\n"
    }
   },
   "source": [
    "### EDA"
   ]
  },
  {
   "cell_type": "code",
   "execution_count": 22,
   "metadata": {
    "pycharm": {
     "name": "#%%\n"
    },
    "scrolled": true
   },
   "outputs": [
    {
     "name": "stdout",
     "output_type": "stream",
     "text": [
      "Requirement already satisfied: sweetviz in /home/carbon/anaconda3/envs/NNTI/lib/python3.9/site-packages (2.1.4)\r\n",
      "Requirement already satisfied: tqdm>=4.43.0 in /home/carbon/anaconda3/envs/NNTI/lib/python3.9/site-packages (from sweetviz) (4.64.1)\r\n",
      "Requirement already satisfied: pandas!=1.0.0,!=1.0.1,!=1.0.2,>=0.25.3 in /home/carbon/anaconda3/envs/NNTI/lib/python3.9/site-packages (from sweetviz) (1.5.1)\r\n",
      "Requirement already satisfied: numpy>=1.16.0 in /home/carbon/anaconda3/envs/NNTI/lib/python3.9/site-packages (from sweetviz) (1.23.1)\r\n",
      "Requirement already satisfied: importlib-resources>=1.2.0 in /home/carbon/anaconda3/envs/NNTI/lib/python3.9/site-packages (from sweetviz) (5.12.0)\r\n",
      "Requirement already satisfied: jinja2>=2.11.1 in /home/carbon/anaconda3/envs/NNTI/lib/python3.9/site-packages (from sweetviz) (3.1.2)\r\n",
      "Requirement already satisfied: matplotlib>=3.1.3 in /home/carbon/anaconda3/envs/NNTI/lib/python3.9/site-packages (from sweetviz) (3.7.1)\r\n",
      "Requirement already satisfied: scipy>=1.3.2 in /home/carbon/anaconda3/envs/NNTI/lib/python3.9/site-packages (from sweetviz) (1.10.0)\r\n",
      "Requirement already satisfied: zipp>=3.1.0 in /home/carbon/anaconda3/envs/NNTI/lib/python3.9/site-packages (from importlib-resources>=1.2.0->sweetviz) (3.15.0)\r\n",
      "Requirement already satisfied: MarkupSafe>=2.0 in /home/carbon/anaconda3/envs/NNTI/lib/python3.9/site-packages (from jinja2>=2.11.1->sweetviz) (2.1.1)\r\n",
      "Requirement already satisfied: kiwisolver>=1.0.1 in /home/carbon/anaconda3/envs/NNTI/lib/python3.9/site-packages (from matplotlib>=3.1.3->sweetviz) (1.4.4)\r\n",
      "Requirement already satisfied: contourpy>=1.0.1 in /home/carbon/anaconda3/envs/NNTI/lib/python3.9/site-packages (from matplotlib>=3.1.3->sweetviz) (1.0.7)\r\n",
      "Requirement already satisfied: fonttools>=4.22.0 in /home/carbon/anaconda3/envs/NNTI/lib/python3.9/site-packages (from matplotlib>=3.1.3->sweetviz) (4.39.3)\r\n",
      "Requirement already satisfied: cycler>=0.10 in /home/carbon/anaconda3/envs/NNTI/lib/python3.9/site-packages (from matplotlib>=3.1.3->sweetviz) (0.11.0)\r\n",
      "Requirement already satisfied: packaging>=20.0 in /home/carbon/anaconda3/envs/NNTI/lib/python3.9/site-packages (from matplotlib>=3.1.3->sweetviz) (23.0)\r\n",
      "Requirement already satisfied: python-dateutil>=2.7 in /home/carbon/anaconda3/envs/NNTI/lib/python3.9/site-packages (from matplotlib>=3.1.3->sweetviz) (2.8.2)\r\n",
      "Requirement already satisfied: pyparsing>=2.3.1 in /home/carbon/anaconda3/envs/NNTI/lib/python3.9/site-packages (from matplotlib>=3.1.3->sweetviz) (3.0.9)\r\n",
      "Requirement already satisfied: pillow>=6.2.0 in /home/carbon/anaconda3/envs/NNTI/lib/python3.9/site-packages (from matplotlib>=3.1.3->sweetviz) (9.4.0)\r\n",
      "Requirement already satisfied: pytz>=2020.1 in /home/carbon/anaconda3/envs/NNTI/lib/python3.9/site-packages (from pandas!=1.0.0,!=1.0.1,!=1.0.2,>=0.25.3->sweetviz) (2022.7.1)\r\n",
      "Requirement already satisfied: six>=1.5 in /home/carbon/anaconda3/envs/NNTI/lib/python3.9/site-packages (from python-dateutil>=2.7->matplotlib>=3.1.3->sweetviz) (1.16.0)\r\n"
     ]
    }
   ],
   "source": [
    "!pip install sweetviz"
   ]
  },
  {
   "cell_type": "code",
   "execution_count": 23,
   "metadata": {
    "pycharm": {
     "name": "#%%\n"
    }
   },
   "outputs": [],
   "source": [
    "import sweetviz"
   ]
  },
  {
   "cell_type": "code",
   "execution_count": 24,
   "metadata": {
    "pycharm": {
     "name": "#%%\n"
    },
    "scrolled": true
   },
   "outputs": [
    {
     "data": {
      "text/plain": "                  name   price  rating  comment_count  frequency  per_user  \\\n0               Kin HR   3.000     4.6             14  Per-Month         0   \n1             WizzTime   9.990     0.0              0  Per-Month         0   \n2     Tempo Timesheets  10.000     4.3            193  Per-Month         1   \n3            LeadsLive  25.000     0.0              0  Per-Month         0   \n4             Averroes   6.990     5.0              2  Per-Month         1   \n...                ...     ...     ...            ...        ...       ...   \n2213       myofficehub   3.000     4.4              5  Per-Month         0   \n2214            Conrep  40.000     4.5             45  Per-Month         1   \n2215         Interstis  16.350     3.7             27  Per-Month         0   \n2216           ezeeCRM  12.000     4.1             13  Per-Month         0   \n2217          Exanergy   4.578     0.0              0  Per-Month         1   \n\n      free_version  free_trial            category  total_price  buyability  \\\n0                0           1     human-resources       360.00  -55.731764   \n1                1           1  project-management      1198.80  143.075270   \n2                0           1           help-desk      1200.00  192.678155   \n3                0           1                 crm      3000.00  143.075270   \n4                1           1  project-management       838.80  -93.769996   \n...            ...         ...                 ...          ...         ...   \n2213             1           1     human-resources       360.00  -61.769816   \n2214             0           0     human-resources      4800.00   -4.868824   \n2215             1           1  project-management      1962.00  -15.472431   \n2216             0           1                 crm      1440.00  -39.771620   \n2217             0           0                 crm       549.36  143.075270   \n\n      decision  \n0            0  \n1            0  \n2            0  \n3            0  \n4            0  \n...        ...  \n2213         0  \n2214         0  \n2215         0  \n2216         0  \n2217         0  \n\n[2218 rows x 12 columns]",
      "text/html": "<div>\n<style scoped>\n    .dataframe tbody tr th:only-of-type {\n        vertical-align: middle;\n    }\n\n    .dataframe tbody tr th {\n        vertical-align: top;\n    }\n\n    .dataframe thead th {\n        text-align: right;\n    }\n</style>\n<table border=\"1\" class=\"dataframe\">\n  <thead>\n    <tr style=\"text-align: right;\">\n      <th></th>\n      <th>name</th>\n      <th>price</th>\n      <th>rating</th>\n      <th>comment_count</th>\n      <th>frequency</th>\n      <th>per_user</th>\n      <th>free_version</th>\n      <th>free_trial</th>\n      <th>category</th>\n      <th>total_price</th>\n      <th>buyability</th>\n      <th>decision</th>\n    </tr>\n  </thead>\n  <tbody>\n    <tr>\n      <th>0</th>\n      <td>Kin HR</td>\n      <td>3.000</td>\n      <td>4.6</td>\n      <td>14</td>\n      <td>Per-Month</td>\n      <td>0</td>\n      <td>0</td>\n      <td>1</td>\n      <td>human-resources</td>\n      <td>360.00</td>\n      <td>-55.731764</td>\n      <td>0</td>\n    </tr>\n    <tr>\n      <th>1</th>\n      <td>WizzTime</td>\n      <td>9.990</td>\n      <td>0.0</td>\n      <td>0</td>\n      <td>Per-Month</td>\n      <td>0</td>\n      <td>1</td>\n      <td>1</td>\n      <td>project-management</td>\n      <td>1198.80</td>\n      <td>143.075270</td>\n      <td>0</td>\n    </tr>\n    <tr>\n      <th>2</th>\n      <td>Tempo Timesheets</td>\n      <td>10.000</td>\n      <td>4.3</td>\n      <td>193</td>\n      <td>Per-Month</td>\n      <td>1</td>\n      <td>0</td>\n      <td>1</td>\n      <td>help-desk</td>\n      <td>1200.00</td>\n      <td>192.678155</td>\n      <td>0</td>\n    </tr>\n    <tr>\n      <th>3</th>\n      <td>LeadsLive</td>\n      <td>25.000</td>\n      <td>0.0</td>\n      <td>0</td>\n      <td>Per-Month</td>\n      <td>0</td>\n      <td>0</td>\n      <td>1</td>\n      <td>crm</td>\n      <td>3000.00</td>\n      <td>143.075270</td>\n      <td>0</td>\n    </tr>\n    <tr>\n      <th>4</th>\n      <td>Averroes</td>\n      <td>6.990</td>\n      <td>5.0</td>\n      <td>2</td>\n      <td>Per-Month</td>\n      <td>1</td>\n      <td>1</td>\n      <td>1</td>\n      <td>project-management</td>\n      <td>838.80</td>\n      <td>-93.769996</td>\n      <td>0</td>\n    </tr>\n    <tr>\n      <th>...</th>\n      <td>...</td>\n      <td>...</td>\n      <td>...</td>\n      <td>...</td>\n      <td>...</td>\n      <td>...</td>\n      <td>...</td>\n      <td>...</td>\n      <td>...</td>\n      <td>...</td>\n      <td>...</td>\n      <td>...</td>\n    </tr>\n    <tr>\n      <th>2213</th>\n      <td>myofficehub</td>\n      <td>3.000</td>\n      <td>4.4</td>\n      <td>5</td>\n      <td>Per-Month</td>\n      <td>0</td>\n      <td>1</td>\n      <td>1</td>\n      <td>human-resources</td>\n      <td>360.00</td>\n      <td>-61.769816</td>\n      <td>0</td>\n    </tr>\n    <tr>\n      <th>2214</th>\n      <td>Conrep</td>\n      <td>40.000</td>\n      <td>4.5</td>\n      <td>45</td>\n      <td>Per-Month</td>\n      <td>1</td>\n      <td>0</td>\n      <td>0</td>\n      <td>human-resources</td>\n      <td>4800.00</td>\n      <td>-4.868824</td>\n      <td>0</td>\n    </tr>\n    <tr>\n      <th>2215</th>\n      <td>Interstis</td>\n      <td>16.350</td>\n      <td>3.7</td>\n      <td>27</td>\n      <td>Per-Month</td>\n      <td>0</td>\n      <td>1</td>\n      <td>1</td>\n      <td>project-management</td>\n      <td>1962.00</td>\n      <td>-15.472431</td>\n      <td>0</td>\n    </tr>\n    <tr>\n      <th>2216</th>\n      <td>ezeeCRM</td>\n      <td>12.000</td>\n      <td>4.1</td>\n      <td>13</td>\n      <td>Per-Month</td>\n      <td>0</td>\n      <td>0</td>\n      <td>1</td>\n      <td>crm</td>\n      <td>1440.00</td>\n      <td>-39.771620</td>\n      <td>0</td>\n    </tr>\n    <tr>\n      <th>2217</th>\n      <td>Exanergy</td>\n      <td>4.578</td>\n      <td>0.0</td>\n      <td>0</td>\n      <td>Per-Month</td>\n      <td>1</td>\n      <td>0</td>\n      <td>0</td>\n      <td>crm</td>\n      <td>549.36</td>\n      <td>143.075270</td>\n      <td>0</td>\n    </tr>\n  </tbody>\n</table>\n<p>2218 rows × 12 columns</p>\n</div>"
     },
     "execution_count": 24,
     "metadata": {},
     "output_type": "execute_result"
    }
   ],
   "source": [
    "df"
   ]
  },
  {
   "cell_type": "code",
   "execution_count": 25,
   "metadata": {
    "pycharm": {
     "name": "#%%\n"
    },
    "scrolled": true
   },
   "outputs": [
    {
     "name": "stderr",
     "output_type": "stream",
     "text": [
      "/home/carbon/anaconda3/envs/NNTI/lib/python3.9/site-packages/sweetviz/dataframe_report.py:74: FutureWarning: iteritems is deprecated and will be removed in a future version. Use .items instead.\n",
      "  all_source_names = [cur_name for cur_name, cur_series in source_df.iteritems()]\n",
      "/home/carbon/anaconda3/envs/NNTI/lib/python3.9/site-packages/sweetviz/dataframe_report.py:109: FutureWarning: iteritems is deprecated and will be removed in a future version. Use .items instead.\n",
      "  filtered_series_names_in_source = [cur_name for cur_name, cur_series in source_df.iteritems()\n"
     ]
    },
    {
     "data": {
      "text/plain": "                                             |          | [  0%]   00:00 -> (? left)",
      "application/vnd.jupyter.widget-view+json": {
       "version_major": 2,
       "version_minor": 0,
       "model_id": "571ee022354344d4963fdfe14dade54d"
      }
     },
     "metadata": {},
     "output_type": "display_data"
    },
    {
     "name": "stderr",
     "output_type": "stream",
     "text": [
      "/home/carbon/anaconda3/envs/NNTI/lib/python3.9/site-packages/sweetviz/series_analyzer_text.py:19: FutureWarning: iteritems is deprecated and will be removed in a future version. Use .items instead.\n",
      "  for item in to_process.source_counts[\"value_counts_without_nan\"].iteritems():\n",
      "/home/carbon/anaconda3/envs/NNTI/lib/python3.9/site-packages/sweetviz/series_analyzer_numeric.py:25: FutureWarning: The 'mad' method is deprecated and will be removed in a future version. To compute the same result, you may do `(df - df.mean()).abs().mean()`.\n",
      "  stats[\"mad\"] = series.mad()\n",
      "/home/carbon/anaconda3/envs/NNTI/lib/python3.9/site-packages/sweetviz/series_analyzer_numeric.py:25: FutureWarning: The 'mad' method is deprecated and will be removed in a future version. To compute the same result, you may do `(df - df.mean()).abs().mean()`.\n",
      "  stats[\"mad\"] = series.mad()\n",
      "/home/carbon/anaconda3/envs/NNTI/lib/python3.9/site-packages/sweetviz/series_analyzer_numeric.py:25: FutureWarning: The 'mad' method is deprecated and will be removed in a future version. To compute the same result, you may do `(df - df.mean()).abs().mean()`.\n",
      "  stats[\"mad\"] = series.mad()\n",
      "/home/carbon/anaconda3/envs/NNTI/lib/python3.9/site-packages/sweetviz/series_analyzer_cat.py:28: FutureWarning: iteritems is deprecated and will be removed in a future version. Use .items instead.\n",
      "  for item in category_counts.iteritems():\n",
      "/home/carbon/anaconda3/envs/NNTI/lib/python3.9/site-packages/sweetviz/series_analyzer_cat.py:28: FutureWarning: iteritems is deprecated and will be removed in a future version. Use .items instead.\n",
      "  for item in category_counts.iteritems():\n",
      "/home/carbon/anaconda3/envs/NNTI/lib/python3.9/site-packages/sweetviz/series_analyzer_cat.py:28: FutureWarning: iteritems is deprecated and will be removed in a future version. Use .items instead.\n",
      "  for item in category_counts.iteritems():\n",
      "/home/carbon/anaconda3/envs/NNTI/lib/python3.9/site-packages/sweetviz/series_analyzer_cat.py:28: FutureWarning: iteritems is deprecated and will be removed in a future version. Use .items instead.\n",
      "  for item in category_counts.iteritems():\n",
      "/home/carbon/anaconda3/envs/NNTI/lib/python3.9/site-packages/sweetviz/series_analyzer_cat.py:28: FutureWarning: iteritems is deprecated and will be removed in a future version. Use .items instead.\n",
      "  for item in category_counts.iteritems():\n",
      "/home/carbon/anaconda3/envs/NNTI/lib/python3.9/site-packages/sweetviz/series_analyzer_numeric.py:25: FutureWarning: The 'mad' method is deprecated and will be removed in a future version. To compute the same result, you may do `(df - df.mean()).abs().mean()`.\n",
      "  stats[\"mad\"] = series.mad()\n",
      "/home/carbon/anaconda3/envs/NNTI/lib/python3.9/site-packages/sweetviz/series_analyzer_numeric.py:25: FutureWarning: The 'mad' method is deprecated and will be removed in a future version. To compute the same result, you may do `(df - df.mean()).abs().mean()`.\n",
      "  stats[\"mad\"] = series.mad()\n",
      "/home/carbon/anaconda3/envs/NNTI/lib/python3.9/site-packages/sweetviz/series_analyzer_cat.py:28: FutureWarning: iteritems is deprecated and will be removed in a future version. Use .items instead.\n",
      "  for item in category_counts.iteritems():\n"
     ]
    }
   ],
   "source": [
    "rep = sweetviz.analyze(df)"
   ]
  },
  {
   "cell_type": "code",
   "execution_count": 26,
   "metadata": {
    "pycharm": {
     "name": "#%%\n"
    }
   },
   "outputs": [
    {
     "name": "stdout",
     "output_type": "stream",
     "text": [
      "Report SWEETVIZ_REPORT.html was generated! NOTEBOOK/COLAB USERS: the web browser MAY not pop up, regardless, the report IS saved in your notebook/colab files.\n"
     ]
    }
   ],
   "source": [
    "rep.show_html()"
   ]
  },
  {
   "cell_type": "code",
   "execution_count": 27,
   "metadata": {
    "pycharm": {
     "name": "#%%\n"
    }
   },
   "outputs": [],
   "source": [
    "# df.to_csv('with_total_price.csv')"
   ]
  },
  {
   "cell_type": "markdown",
   "metadata": {
    "pycharm": {
     "name": "#%% md\n"
    }
   },
   "source": [
    "### Model"
   ]
  },
  {
   "cell_type": "code",
   "execution_count": 28,
   "metadata": {
    "pycharm": {
     "name": "#%%\n"
    }
   },
   "outputs": [],
   "source": [
    "import numpy as np\n",
    "import pandas as pd\n",
    "from sklearn.model_selection import train_test_split\n",
    "from sklearn.tree import DecisionTreeClassifier\n",
    "from sklearn.ensemble import RandomForestClassifier\n",
    "from sklearn.metrics import accuracy_score, precision_score, recall_score, f1_score"
   ]
  },
  {
   "cell_type": "code",
   "execution_count": 29,
   "metadata": {
    "pycharm": {
     "name": "#%%\n"
    }
   },
   "outputs": [],
   "source": [
    "# Split the data into features (X) and target variable (y)\n",
    "# X = df.drop(['decision', 'category', 'frequency', 'name', 'buyability'], axis=1)\n",
    "# y = df['decision']\n",
    "X = pd.read_csv('X.csv')\n",
    "y = pd.read_csv('Y.csv')\n",
    "\n",
    "\n",
    "# Split the data into training and testing sets\n",
    "X_train, X_test, y_train, y_test = train_test_split(X, y, test_size=0.2, random_state=42)"
   ]
  },
  {
   "cell_type": "code",
   "execution_count": 30,
   "outputs": [
    {
     "data": {
      "text/plain": "0       0\n1       0\n2       0\n3       0\n4       0\n       ..\n2213    0\n2214    0\n2215    0\n2216    0\n2217    0\nName: decision, Length: 2218, dtype: int64"
     },
     "execution_count": 30,
     "metadata": {},
     "output_type": "execute_result"
    }
   ],
   "source": [
    "y"
   ],
   "metadata": {
    "collapsed": false,
    "pycharm": {
     "name": "#%%\n"
    }
   }
  },
  {
   "cell_type": "code",
   "execution_count": 31,
   "metadata": {
    "pycharm": {
     "name": "#%%\n"
    }
   },
   "outputs": [
    {
     "name": "stdout",
     "output_type": "stream",
     "text": [
      "Decision Tree Accuracy: 0.9954954954954955\n",
      "Random Forest Accuracy: 0.9977477477477478\n",
      "Decision Tree Precision: 0.8571428571428571\n",
      "Random Forest Precision: 1.0\n",
      "Decision Tree Recall: 0.8571428571428571\n",
      "Random Forest Recall: 0.8571428571428571\n",
      "Decision Tree F1: 0.8571428571428571\n",
      "Random Forest F1: 0.923076923076923\n"
     ]
    }
   ],
   "source": [
    "# Initialize the models\n",
    "decision_tree = DecisionTreeClassifier()\n",
    "random_forest = RandomForestClassifier()\n",
    "\n",
    "# Train each model\n",
    "decision_tree.fit(X_train, y_train)\n",
    "random_forest.fit(X_train, y_train)\n",
    "\n",
    "# Make predictions on the test set\n",
    "decision_tree_pred = decision_tree.predict(X_test)\n",
    "random_forest_pred = random_forest.predict(X_test)\n",
    "\n",
    "# Evaluate model performance\n",
    "decision_tree_accuracy = accuracy_score(y_test, decision_tree_pred)\n",
    "random_forest_accuracy = accuracy_score(y_test, random_forest_pred)\n",
    "\n",
    "decision_tree_precision = precision_score(y_test, decision_tree_pred)\n",
    "random_forest_precision = precision_score(y_test, random_forest_pred)\n",
    "\n",
    "decision_tree_recall = recall_score(y_test, decision_tree_pred)\n",
    "random_forest_recall = recall_score(y_test, random_forest_pred)\n",
    "\n",
    "decision_tree_f1 = f1_score(y_test, decision_tree_pred)\n",
    "random_forest_f1 = f1_score(y_test, random_forest_pred)\n",
    "\n",
    "# Print the accuracy of each model\n",
    "print(\"Decision Tree Accuracy:\", decision_tree_accuracy)\n",
    "print(\"Random Forest Accuracy:\", random_forest_accuracy)\n",
    "print(\"Decision Tree Precision:\", decision_tree_precision)\n",
    "print(\"Random Forest Precision:\", random_forest_precision)\n",
    "print(\"Decision Tree Recall:\", decision_tree_recall)\n",
    "print(\"Random Forest Recall:\", random_forest_recall)\n",
    "print(\"Decision Tree F1:\", decision_tree_f1)\n",
    "print(\"Random Forest F1:\", random_forest_f1)"
   ]
  },
  {
   "cell_type": "code",
   "execution_count": 32,
   "metadata": {
    "pycharm": {
     "name": "#%%\n"
    }
   },
   "outputs": [
    {
     "data": {
      "text/plain": "       price  rating  comment_count  per_user  free_version  free_trial  \\\n0      3.000     4.6             14         0             0           1   \n1      9.990     0.0              0         0             1           1   \n2     10.000     4.3            193         1             0           1   \n3     25.000     0.0              0         0             0           1   \n4      6.990     5.0              2         1             1           1   \n...      ...     ...            ...       ...           ...         ...   \n2213   3.000     4.4              5         0             1           1   \n2214  40.000     4.5             45         1             0           0   \n2215  16.350     3.7             27         0             1           1   \n2216  12.000     4.1             13         0             0           1   \n2217   4.578     0.0              0         1             0           0   \n\n      total_price  \n0          360.00  \n1         1198.80  \n2         1200.00  \n3         3000.00  \n4          838.80  \n...           ...  \n2213       360.00  \n2214      4800.00  \n2215      1962.00  \n2216      1440.00  \n2217       549.36  \n\n[2218 rows x 7 columns]",
      "text/html": "<div>\n<style scoped>\n    .dataframe tbody tr th:only-of-type {\n        vertical-align: middle;\n    }\n\n    .dataframe tbody tr th {\n        vertical-align: top;\n    }\n\n    .dataframe thead th {\n        text-align: right;\n    }\n</style>\n<table border=\"1\" class=\"dataframe\">\n  <thead>\n    <tr style=\"text-align: right;\">\n      <th></th>\n      <th>price</th>\n      <th>rating</th>\n      <th>comment_count</th>\n      <th>per_user</th>\n      <th>free_version</th>\n      <th>free_trial</th>\n      <th>total_price</th>\n    </tr>\n  </thead>\n  <tbody>\n    <tr>\n      <th>0</th>\n      <td>3.000</td>\n      <td>4.6</td>\n      <td>14</td>\n      <td>0</td>\n      <td>0</td>\n      <td>1</td>\n      <td>360.00</td>\n    </tr>\n    <tr>\n      <th>1</th>\n      <td>9.990</td>\n      <td>0.0</td>\n      <td>0</td>\n      <td>0</td>\n      <td>1</td>\n      <td>1</td>\n      <td>1198.80</td>\n    </tr>\n    <tr>\n      <th>2</th>\n      <td>10.000</td>\n      <td>4.3</td>\n      <td>193</td>\n      <td>1</td>\n      <td>0</td>\n      <td>1</td>\n      <td>1200.00</td>\n    </tr>\n    <tr>\n      <th>3</th>\n      <td>25.000</td>\n      <td>0.0</td>\n      <td>0</td>\n      <td>0</td>\n      <td>0</td>\n      <td>1</td>\n      <td>3000.00</td>\n    </tr>\n    <tr>\n      <th>4</th>\n      <td>6.990</td>\n      <td>5.0</td>\n      <td>2</td>\n      <td>1</td>\n      <td>1</td>\n      <td>1</td>\n      <td>838.80</td>\n    </tr>\n    <tr>\n      <th>...</th>\n      <td>...</td>\n      <td>...</td>\n      <td>...</td>\n      <td>...</td>\n      <td>...</td>\n      <td>...</td>\n      <td>...</td>\n    </tr>\n    <tr>\n      <th>2213</th>\n      <td>3.000</td>\n      <td>4.4</td>\n      <td>5</td>\n      <td>0</td>\n      <td>1</td>\n      <td>1</td>\n      <td>360.00</td>\n    </tr>\n    <tr>\n      <th>2214</th>\n      <td>40.000</td>\n      <td>4.5</td>\n      <td>45</td>\n      <td>1</td>\n      <td>0</td>\n      <td>0</td>\n      <td>4800.00</td>\n    </tr>\n    <tr>\n      <th>2215</th>\n      <td>16.350</td>\n      <td>3.7</td>\n      <td>27</td>\n      <td>0</td>\n      <td>1</td>\n      <td>1</td>\n      <td>1962.00</td>\n    </tr>\n    <tr>\n      <th>2216</th>\n      <td>12.000</td>\n      <td>4.1</td>\n      <td>13</td>\n      <td>0</td>\n      <td>0</td>\n      <td>1</td>\n      <td>1440.00</td>\n    </tr>\n    <tr>\n      <th>2217</th>\n      <td>4.578</td>\n      <td>0.0</td>\n      <td>0</td>\n      <td>1</td>\n      <td>0</td>\n      <td>0</td>\n      <td>549.36</td>\n    </tr>\n  </tbody>\n</table>\n<p>2218 rows × 7 columns</p>\n</div>"
     },
     "execution_count": 32,
     "metadata": {},
     "output_type": "execute_result"
    }
   ],
   "source": [
    "X"
   ]
  },
  {
   "cell_type": "code",
   "execution_count": 33,
   "metadata": {
    "pycharm": {
     "name": "#%%\n"
    }
   },
   "outputs": [
    {
     "data": {
      "text/plain": "array([0, 0, 0, 0])"
     },
     "execution_count": 33,
     "metadata": {},
     "output_type": "execute_result"
    }
   ],
   "source": [
    "random_forest.predict(X[:4])"
   ]
  },
  {
   "cell_type": "code",
   "execution_count": 34,
   "metadata": {
    "pycharm": {
     "name": "#%%\n"
    }
   },
   "outputs": [],
   "source": [
    "X.to_csv('X.csv')\n",
    "y.to_csv('Y.csv')"
   ]
  }
 ],
 "metadata": {
  "kernelspec": {
   "display_name": "Python 3",
   "language": "python",
   "name": "python3"
  },
  "language_info": {
   "codemirror_mode": {
    "name": "ipython",
    "version": 3
   },
   "file_extension": ".py",
   "mimetype": "text/x-python",
   "name": "python",
   "nbconvert_exporter": "python",
   "pygments_lexer": "ipython3",
   "version": "3.7.0"
  }
 },
 "nbformat": 4,
 "nbformat_minor": 5
}